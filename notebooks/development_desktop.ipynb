{
 "cells": [
  {
   "cell_type": "code",
   "execution_count": null,
   "id": "initial_id",
   "metadata": {
    "collapsed": true
   },
   "outputs": [],
   "source": [
    ""
   ]
  },
  {
   "metadata": {
    "ExecuteTime": {
     "end_time": "2025-02-09T15:28:08.521753Z",
     "start_time": "2025-02-09T15:28:08.515765Z"
    }
   },
   "cell_type": "code",
   "source": [
    "def fetch_missing_wikipedia_articles(url):\n",
    "    photos = json.loads(requests.get(url).text)\n",
    "    temp_results = []\n",
    "    for obs in photos[\"results\"]:\n",
    "        if len(obs[\"taxon\"][\"name\"].split(\" \"))==2:\n",
    "            if obs[\"taxon\"][\"wikipedia_url\"] is None:\n",
    "                result = dict()\n",
    "                result[\"inat_obs_id\"] = obs[\"id\"]\n",
    "                result[\"inat_taxon_id\"] =  obs[\"taxon\"][\"id\"]\n",
    "                result[\"taxon_name\"] = obs[\"taxon\"][\"name\"]\n",
    "                temp_results.append(result)\n",
    "    to_verify = []\n",
    "    for temp in temp_results:\n",
    "        if temp[\"taxon_name\"] not in to_verify:\n",
    "            to_verify.append(temp[\"taxon_name\"])\n",
    "    verified = verify_wikidata(to_verify)\n",
    "    results = []\n",
    "    for temp in temp_results:\n",
    "        if temp[\"taxon_name\"] in verified:\n",
    "            results.append(temp)\n",
    "    return results\n",
    "\n",
    "def verify_wikidata(taxon_names):\n",
    "    progress = widgets.IntProgress(\n",
    "                value=1,\n",
    "                min=0,\n",
    "                max=len(taxon_names)/50,\n",
    "                description='Wikidata:',\n",
    "                bar_style='', # 'success', 'info', 'warning', 'danger' or ''\n",
    "                style={'bar_color': 'blue'},\n",
    "                orientation='horizontal')\n",
    "    display(progress)\n",
    "    verified = []\n",
    "    i = 1\n",
    "    for chunks in [taxon_names[i:i + 50] for i in range(0, len(taxon_names), 50)]:\n",
    "        names=\" \".join('\"{0}\"'.format(w) for w in chunks)\n",
    "        query = f\"\"\"\n",
    "             SELECT DISTINCT ?taxon_name (COUNT(?item) AS ?item_count) (COUNT(?article) AS ?article_count)   WHERE {{\n",
    "                        VALUES ?taxon_name {{{names}}}\n",
    "                {{?item wdt:P225 ?taxon_name .}}\n",
    "               UNION\n",
    "               {{?item wdt:P225 ?taxon_name .\n",
    "                ?article schema:about ?item ;\n",
    "                         schema:isPartOf \t<{os.environ[\"wikipedia\"]}> .}}\n",
    "                 UNION\n",
    "               {{?basionym wdt:P566 ?item ;\n",
    "                          wdt:P225 ?taxon_name .\n",
    "               ?article schema:about ?item ;\n",
    "                        schema:isPartOf \t<{os.environ[\"wikipedia\"]}> .}}\n",
    "               UNION\n",
    "               {{\n",
    "                  ?item wdt:P225 ?taxon_name .\n",
    "                  ?wikidata_item wdt:P460 ?item ;\n",
    "                                 schema:isPartOf \t<{os.environ[\"wikipedia\"]}> .\n",
    "               }}\n",
    "               UNION\n",
    "               {{?basionym wdt:P566 ?item .\n",
    "                ?item wdt:P225 ?taxon_name .\n",
    "               ?article schema:about ?basionym ;\n",
    "                        schema:isPartOf \t<{os.environ[\"wikipedia\"]}> .}}\n",
    "      }} GROUP BY ?taxon_name\n",
    "            \"\"\"\n",
    "\n",
    "        url = \"https://query.wikidata.org/sparql?format=json&query=\"+query\n",
    "        #print(url)\n",
    "        progress.value = i\n",
    "        i+=1\n",
    "        try:\n",
    "            results = json.loads(requests.get(url).text)\n",
    "        except:\n",
    "            continue\n",
    "        for result in results[\"results\"][\"bindings\"]:\n",
    "            if result[\"article_count\"][\"value\"]=='0':\n",
    "                verified.append(result[\"taxon_name\"][\"value\"])\n",
    "    return verified\n"
   ],
   "id": "2366c9e77b267cef",
   "outputs": [],
   "execution_count": 1
  },
  {
   "metadata": {},
   "cell_type": "code",
   "outputs": [],
   "execution_count": null,
   "source": "",
   "id": "2931595f72b166c"
  }
 ],
 "metadata": {
  "kernelspec": {
   "display_name": "Python 3",
   "language": "python",
   "name": "python3"
  },
  "language_info": {
   "codemirror_mode": {
    "name": "ipython",
    "version": 2
   },
   "file_extension": ".py",
   "mimetype": "text/x-python",
   "name": "python",
   "nbconvert_exporter": "python",
   "pygments_lexer": "ipython2",
   "version": "2.7.6"
  }
 },
 "nbformat": 4,
 "nbformat_minor": 5
}
